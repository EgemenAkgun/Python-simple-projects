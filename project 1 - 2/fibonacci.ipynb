{
 "cells": [
  {
   "cell_type": "code",
   "execution_count": 4,
   "id": "5b2300a9-7072-4418-a1d6-1bb7ae27b69f",
   "metadata": {},
   "outputs": [
    {
     "name": "stdin",
     "output_type": "stream",
     "text": [
      "Başlangıç değerini giriniz (varsayılan 0):  0\n",
      "Bitiş değerini giriniz:  100\n"
     ]
    },
    {
     "name": "stdout",
     "output_type": "stream",
     "text": [
      "İstenilen aralıktaki Fibonacci serisi (0 - 100):\n",
      "[0, 1, 1, 2, 3, 5, 8, 13, 21, 34, 55, 89]\n"
     ]
    }
   ],
   "source": [
    "def fibonacci_aralik(baslangic=0, bitis=100):\n",
    "    fibonacci_serisi = [0, 1]\n",
    "    \n",
    "    while True:\n",
    "        yeni_sayi = fibonacci_serisi[-1] + fibonacci_serisi[-2]\n",
    "        if yeni_sayi > bitis:\n",
    "            break\n",
    "        fibonacci_serisi.append(yeni_sayi)\n",
    "    \n",
    "    return [x for x in fibonacci_serisi if x >= baslangic and x <= bitis]\n",
    "\n",
    "\n",
    "baslangic_sayisi = input(\"Başlangıç değerini giriniz (varsayılan 0): \")\n",
    "if baslangic_sayisi == \"\":\n",
    "    baslangic_sayisi = 0\n",
    "else:\n",
    "    baslangic_sayisi = int(baslangic_sayisi)\n",
    "\n",
    "bitis_sayisi = int(input(\"Bitiş değerini giriniz: \"))\n",
    "\n",
    "\n",
    "fibonacci_sonuc = fibonacci_aralik(baslangic_sayisi, bitis_sayisi)\n",
    "print(f\"İstenilen aralıktaki Fibonacci serisi ({baslangic_sayisi} - {bitis_sayisi}):\")\n",
    "print(fibonacci_sonuc)\n"
   ]
  },
  {
   "cell_type": "code",
   "execution_count": null,
   "id": "920ebad1-c6a5-4c21-b398-aa60ac053d48",
   "metadata": {},
   "outputs": [],
   "source": []
  }
 ],
 "metadata": {
  "kernelspec": {
   "display_name": "Python 3 (ipykernel)",
   "language": "python",
   "name": "python3"
  },
  "language_info": {
   "codemirror_mode": {
    "name": "ipython",
    "version": 3
   },
   "file_extension": ".py",
   "mimetype": "text/x-python",
   "name": "python",
   "nbconvert_exporter": "python",
   "pygments_lexer": "ipython3",
   "version": "3.11.7"
  }
 },
 "nbformat": 4,
 "nbformat_minor": 5
}
