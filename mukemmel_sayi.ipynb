{
 "cells": [
  {
   "cell_type": "code",
   "execution_count": 4,
   "id": "3ec9a97d-fc8c-4342-b12e-71aa6336d2f8",
   "metadata": {},
   "outputs": [
    {
     "name": "stdin",
     "output_type": "stream",
     "text": [
      "Lütfen tam sayı girin:  28\n"
     ]
    },
    {
     "name": "stdout",
     "output_type": "stream",
     "text": [
      "Girilen sayı: 28\n",
      "Mükemmel sayıdır.\n"
     ]
    }
   ],
   "source": [
    "def pozitif_bolenleri_topla(sayi,toplam):\n",
    "    for i in range(1, sayi):\n",
    "        if sayi%i==0 :\n",
    "            toplam = toplam + i       \n",
    "    return toplam\n",
    "def mükemmel_sayi_mi(bölenlerToplamı,sayi):\n",
    "    if bölenlerToplamı == sayi :\n",
    "        print(\"Mükemmel sayıdır.\")\n",
    "    else:\n",
    "        print(\"Mükemmel sayı değildir.\")\n",
    "\n",
    "\n",
    "sayi = int(input(\"Lütfen tam sayı girin: \"))\n",
    "print(\"Girilen sayı:\" ,sayi)\n",
    "toplam = 0\n",
    "bölenlerToplamı = pozitif_bolenleri_topla(sayi,toplam)\n",
    "mükemmel_sayi_mi(bölenlerToplamı,sayi)"
   ]
  },
  {
   "cell_type": "code",
   "execution_count": null,
   "id": "d46a06dc-89d2-4f9d-8251-9c4c51d3c9a1",
   "metadata": {},
   "outputs": [],
   "source": []
  }
 ],
 "metadata": {
  "kernelspec": {
   "display_name": "Python 3 (ipykernel)",
   "language": "python",
   "name": "python3"
  },
  "language_info": {
   "codemirror_mode": {
    "name": "ipython",
    "version": 3
   },
   "file_extension": ".py",
   "mimetype": "text/x-python",
   "name": "python",
   "nbconvert_exporter": "python",
   "pygments_lexer": "ipython3",
   "version": "3.11.7"
  }
 },
 "nbformat": 4,
 "nbformat_minor": 5
}
